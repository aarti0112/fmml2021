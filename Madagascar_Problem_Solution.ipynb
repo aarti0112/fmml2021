{
  "nbformat": 4,
  "nbformat_minor": 0,
  "metadata": {
    "colab": {
      "name": "10_Problem_Solution.ipynb",
      "provenance": [],
      "include_colab_link": true
    },
    "kernelspec": {
      "name": "python3",
      "display_name": "Python 3"
    },
    "language_info": {
      "name": "python"
    }
  },
  "cells": [
    {
      "cell_type": "markdown",
      "metadata": {
        "id": "view-in-github",
        "colab_type": "text"
      },
      "source": [
        "<a href=\"https://colab.research.google.com/github/aarti0112/fmml2021/blob/main/Madagascar_Problem_Solution.ipynb\" target=\"_parent\"><img src=\"https://colab.research.google.com/assets/colab-badge.svg\" alt=\"Open In Colab\"/></a>"
      ]
    },
    {
      "cell_type": "code",
      "metadata": {
        "id": "4tHdnVmZSQIR"
      },
      "source": [
        "# Madagascar problem"
      ],
      "execution_count": null,
      "outputs": []
    },
    {
      "cell_type": "code",
      "metadata": {
        "id": "vbsZHOPVSbYh"
      },
      "source": [
        "Person = [\"AAA\", \"AAB\", \"ACA\",\"ABB\"]\n",
        "A = [[20, 122, 20], [35,180, 35],[50, 220, 65], [70, 300, 30]]\n",
        "x = [0.05, 0.002, 0.02]"
      ],
      "execution_count": 47,
      "outputs": []
    },
    {
      "cell_type": "code",
      "metadata": {
        "id": "PSJBzTZzSdzT",
        "outputId": "75458544-be18-4902-b06b-a22c1648605d",
        "colab": {
          "base_uri": "https://localhost:8080/"
        }
      },
      "source": [
        "# simply solved the question without defining function \n",
        "for i in range(len(A)):\n",
        "  weighted_sum=0\n",
        "  for j in range(len(A[0])):\n",
        "    weighted_sum=weighted_sum+(A[i][j]*x[j])\n",
        "  if weighted_sum>=4:\n",
        "    print(\"People prone to risk: \",Person[i])\n"
      ],
      "execution_count": 48,
      "outputs": [
        {
          "output_type": "stream",
          "name": "stdout",
          "text": [
            "People prone to risk:  ACA\n",
            "People prone to risk:  ABB\n"
          ]
        }
      ]
    },
    {
      "cell_type": "code",
      "metadata": {
        "id": "T4cY4M4OPRQe"
      },
      "source": [
        "#solved after defining a function \n",
        "def check(Person,A,x):\n",
        "  l=[]\n",
        "  for i in range(len(A)):\n",
        "    weighted_sum=0\n",
        "    for j in range(len(A[0])):\n",
        "      weighted_sum=weighted_sum+(A[i][j]*x[j])\n",
        "    if weighted_sum>=4:\n",
        "      l.append(Person[i])\n",
        "  return l\n"
      ],
      "execution_count": 50,
      "outputs": []
    },
    {
      "cell_type": "code",
      "metadata": {
        "id": "q_vNXOMMPzwS",
        "outputId": "e2ef64eb-53f2-4b6d-d19e-6ead2f109991",
        "colab": {
          "base_uri": "https://localhost:8080/"
        }
      },
      "source": [
        "Person = [\"AAA\", \"AAB\", \"ACA\",\"ABB\"]\n",
        "A = [[20, 122, 20], [35,180, 35],[50, 220, 65], [70, 300, 30]]\n",
        "x = [0.05, 0.002, 0.02]\n",
        "\n",
        "res=check(Person,A,x)\n",
        "for i in range(len(res)):\n",
        "  print(res[i])"
      ],
      "execution_count": 51,
      "outputs": [
        {
          "output_type": "stream",
          "name": "stdout",
          "text": [
            "ACA\n",
            "ABB\n"
          ]
        }
      ]
    }
  ]
}